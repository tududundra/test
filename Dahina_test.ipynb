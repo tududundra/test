{
 "cells": [
  {
   "cell_type": "code",
   "execution_count": null,
   "metadata": {},
   "outputs": [],
   "source": []
  },
  {
   "cell_type": "markdown",
   "metadata": {},
   "source": [
    "#### Задание 2\n",
    "В приложении содержится файл “logs_sample.xlsx”, который представляет собой выборку логов открытий писем email-рассылок (адреса пользователей закодированы в столбце cid). Используя любой язык программирования напишите алгоритм, который считает среднее количество открытий писем на пользователя (т. е. на уникальное значение cid) в этом файле. При расчете учитывайте только тех пользователей, которые совершили 2 и более открытий писем. В условии приведена небольшая часть логов. Рассмотрите два случая, при которых ваш алгоритм должен обрабатывать:\n",
    "  - файл логов размером 300 MB\n",
    "  - файл логов размером 300 GB\n"
   ]
  },
  {
   "cell_type": "code",
   "execution_count": 1,
   "metadata": {},
   "outputs": [],
   "source": [
    "import pandas as pd"
   ]
  },
  {
   "cell_type": "code",
   "execution_count": 2,
   "metadata": {},
   "outputs": [],
   "source": [
    "logs = pd.read_csv('logs_sample.csv', sep=';')"
   ]
  },
  {
   "cell_type": "code",
   "execution_count": 3,
   "metadata": {},
   "outputs": [
    {
     "data": {
      "text/html": [
       "<div>\n",
       "<style scoped>\n",
       "    .dataframe tbody tr th:only-of-type {\n",
       "        vertical-align: middle;\n",
       "    }\n",
       "\n",
       "    .dataframe tbody tr th {\n",
       "        vertical-align: top;\n",
       "    }\n",
       "\n",
       "    .dataframe thead th {\n",
       "        text-align: right;\n",
       "    }\n",
       "</style>\n",
       "<table border=\"1\" class=\"dataframe\">\n",
       "  <thead>\n",
       "    <tr style=\"text-align: right;\">\n",
       "      <th></th>\n",
       "      <th>id</th>\n",
       "      <th>date</th>\n",
       "      <th>country</th>\n",
       "      <th>campaign</th>\n",
       "      <th>ts</th>\n",
       "      <th>os</th>\n",
       "      <th>device</th>\n",
       "      <th>ua</th>\n",
       "      <th>cid</th>\n",
       "    </tr>\n",
       "  </thead>\n",
       "  <tbody>\n",
       "    <tr>\n",
       "      <th>0</th>\n",
       "      <td>1</td>\n",
       "      <td>24.04.2015</td>\n",
       "      <td>RU</td>\n",
       "      <td>campaign_150423</td>\n",
       "      <td>24.04.2015 3:00</td>\n",
       "      <td>OS X</td>\n",
       "      <td>desktop</td>\n",
       "      <td>Mozilla/5.0 (Macintosh; Intel Mac OS X 10_9_5)...</td>\n",
       "      <td>04c2644602@somedomain.com</td>\n",
       "    </tr>\n",
       "    <tr>\n",
       "      <th>1</th>\n",
       "      <td>2</td>\n",
       "      <td>24.04.2015</td>\n",
       "      <td>GB</td>\n",
       "      <td>campaign_150423</td>\n",
       "      <td>24.04.2015 3:00</td>\n",
       "      <td>iOS</td>\n",
       "      <td>mobile</td>\n",
       "      <td>Mozilla/5.0 (iPhone; CPU iPhone OS 8_3 like Ma...</td>\n",
       "      <td>830bacab8a@somedomain.com</td>\n",
       "    </tr>\n",
       "    <tr>\n",
       "      <th>2</th>\n",
       "      <td>3</td>\n",
       "      <td>24.04.2015</td>\n",
       "      <td>RU</td>\n",
       "      <td>campaign_150423</td>\n",
       "      <td>24.04.2015 3:00</td>\n",
       "      <td>iOS</td>\n",
       "      <td>tablet</td>\n",
       "      <td>Mozilla/5.0 (iPad; CPU OS 8_3 like Mac OS X) A...</td>\n",
       "      <td>c5c4c457ee@somedomain.com</td>\n",
       "    </tr>\n",
       "    <tr>\n",
       "      <th>3</th>\n",
       "      <td>4</td>\n",
       "      <td>24.04.2015</td>\n",
       "      <td>RU</td>\n",
       "      <td>campaign_150423</td>\n",
       "      <td>24.04.2015 3:00</td>\n",
       "      <td>Linux</td>\n",
       "      <td>desktop</td>\n",
       "      <td>Mozilla/5.0 (X11; Linux x86_64) AppleWebKit/53...</td>\n",
       "      <td>a15e9727d4@somedomain.com</td>\n",
       "    </tr>\n",
       "    <tr>\n",
       "      <th>4</th>\n",
       "      <td>5</td>\n",
       "      <td>24.04.2015</td>\n",
       "      <td>RU</td>\n",
       "      <td>campaign_150423</td>\n",
       "      <td>24.04.2015 3:01</td>\n",
       "      <td>Linux</td>\n",
       "      <td>desktop</td>\n",
       "      <td>Mozilla/5.0 (X11; Linux x86_64) AppleWebKit/53...</td>\n",
       "      <td>40f113d9f6@somedomain.com</td>\n",
       "    </tr>\n",
       "  </tbody>\n",
       "</table>\n",
       "</div>"
      ],
      "text/plain": [
       "   id        date country         campaign               ts     os   device  \\\n",
       "0   1  24.04.2015      RU  campaign_150423  24.04.2015 3:00   OS X  desktop   \n",
       "1   2  24.04.2015      GB  campaign_150423  24.04.2015 3:00    iOS   mobile   \n",
       "2   3  24.04.2015      RU  campaign_150423  24.04.2015 3:00    iOS   tablet   \n",
       "3   4  24.04.2015      RU  campaign_150423  24.04.2015 3:00  Linux  desktop   \n",
       "4   5  24.04.2015      RU  campaign_150423  24.04.2015 3:01  Linux  desktop   \n",
       "\n",
       "                                                  ua  \\\n",
       "0  Mozilla/5.0 (Macintosh; Intel Mac OS X 10_9_5)...   \n",
       "1  Mozilla/5.0 (iPhone; CPU iPhone OS 8_3 like Ma...   \n",
       "2  Mozilla/5.0 (iPad; CPU OS 8_3 like Mac OS X) A...   \n",
       "3  Mozilla/5.0 (X11; Linux x86_64) AppleWebKit/53...   \n",
       "4  Mozilla/5.0 (X11; Linux x86_64) AppleWebKit/53...   \n",
       "\n",
       "                         cid  \n",
       "0  04c2644602@somedomain.com  \n",
       "1  830bacab8a@somedomain.com  \n",
       "2  c5c4c457ee@somedomain.com  \n",
       "3  a15e9727d4@somedomain.com  \n",
       "4  40f113d9f6@somedomain.com  "
      ]
     },
     "execution_count": 3,
     "metadata": {},
     "output_type": "execute_result"
    }
   ],
   "source": [
    "logs.head()"
   ]
  },
  {
   "cell_type": "code",
   "execution_count": 4,
   "metadata": {},
   "outputs": [
    {
     "data": {
      "text/plain": [
       "(1000, 9)"
      ]
     },
     "execution_count": 4,
     "metadata": {},
     "output_type": "execute_result"
    }
   ],
   "source": [
    "logs.shape"
   ]
  },
  {
   "cell_type": "markdown",
   "metadata": {},
   "source": [
    "Группируем датафрейм по уникальным значениям пользователя, а затем считаем, сколько на приходится открытий на каждый адрес.\n",
    "\n",
    "Затем мы оставляем только тех пользователей, которые совершили 2 и более открытий писем."
   ]
  },
  {
   "cell_type": "code",
   "execution_count": 9,
   "metadata": {},
   "outputs": [],
   "source": [
    "d = logs.groupby('cid')['id'].count()\n",
    "d = d.loc[d>1]"
   ]
  },
  {
   "cell_type": "code",
   "execution_count": 10,
   "metadata": {},
   "outputs": [
    {
     "data": {
      "text/plain": [
       "(107,)"
      ]
     },
     "execution_count": 10,
     "metadata": {},
     "output_type": "execute_result"
    }
   ],
   "source": [
    "d.shape"
   ]
  },
  {
   "cell_type": "code",
   "execution_count": 11,
   "metadata": {},
   "outputs": [
    {
     "data": {
      "text/plain": [
       "256"
      ]
     },
     "execution_count": 11,
     "metadata": {},
     "output_type": "execute_result"
    }
   ],
   "source": [
    "d.sum()"
   ]
  },
  {
   "cell_type": "markdown",
   "metadata": {},
   "source": [
    "Считаем среднее количество открытий на пользователя, т.е. делим общее количество открытий на количество пользователей, которые совершили 2 и более откртий писем."
   ]
  },
  {
   "cell_type": "code",
   "execution_count": 12,
   "metadata": {},
   "outputs": [
    {
     "data": {
      "text/plain": [
       "2.392523364485981"
      ]
     },
     "execution_count": 12,
     "metadata": {},
     "output_type": "execute_result"
    }
   ],
   "source": [
    "d.sum()/d.shape[0]"
   ]
  },
  {
   "cell_type": "markdown",
   "metadata": {},
   "source": [
    "Этот алгоритм одинаково хорошо работает и на данных 300 MB, и на файле 300 GB, потому что задействует минимум дополнительной памяти."
   ]
  },
  {
   "cell_type": "code",
   "execution_count": null,
   "metadata": {},
   "outputs": [],
   "source": []
  }
 ],
 "metadata": {
  "kernelspec": {
   "display_name": "Python 3",
   "language": "python",
   "name": "python3"
  },
  "language_info": {
   "codemirror_mode": {
    "name": "ipython",
    "version": 3
   },
   "file_extension": ".py",
   "mimetype": "text/x-python",
   "name": "python",
   "nbconvert_exporter": "python",
   "pygments_lexer": "ipython3",
   "version": "3.6.4"
  }
 },
 "nbformat": 4,
 "nbformat_minor": 2
}
